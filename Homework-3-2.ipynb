{
 "cells": [
  {
   "cell_type": "markdown",
   "metadata": {},
   "source": [
    "# Analyzing Hotel Ratings on Tripadvisor"
   ]
  },
  {
   "cell_type": "markdown",
   "metadata": {},
   "source": [
    "In this homework, we will analyze the data we scraped in Part 1 by fitting a regression model on the data."
   ]
  },
  {
   "cell_type": "markdown",
   "metadata": {},
   "source": [
    "** Task 1 (20 pts) **\n",
    "\n",
    "Now, we will use regression to analyze this information. First, we will fit a linear regression model that predicts the average rating.\n",
    "\n",
    "For example, the average rating of a hotel is calculated as follows:\n",
    "\n",
    "![Information to be scraped](traveler_ratings.png)\n",
    "\n",
    "$$ \\text{AVG_SCORE} = \\frac{1*15 + 2*21 + 3*55 + 4*228 + 5*1271}{1590}$$\n",
    "\n",
    "Use the model to analyze the important factors that decide the $\\text{AVG_SCORE}$."
   ]
  },
  {
   "cell_type": "code",
   "execution_count": 30,
   "metadata": {
    "collapsed": false
   },
   "outputs": [],
   "source": [
    "import numpy as np\n",
    "import pandas as pd\n",
    "df = pd.read_csv('traveler_ratings.csv')\n",
    "df['weighted total rating'] = (df['Excellent'] * 5 +df['Very good']*4 + df['Average']*3 +df['Poor']*2 +df['Terrible']*1)\n",
    "\n",
    "df['total rating'] = df['Excellent']+df['Very good']+df['Average']+df['Poor']+df['Terrible']\n",
    "df['Average rating'] = round(df['weighted total rating']*1.0/df['total rating'],5)\n",
    "\n",
    "df.to_csv('new_traveler_ratings.csv')\n",
    "\n",
    "# get the average rating for all hotels\n",
    "# this is y vector\n",
    "hotel_rating_df = df[['hotel_name', 'Average rating']]\n",
    "\n",
    "\n"
   ]
  },
  {
   "cell_type": "code",
   "execution_count": 31,
   "metadata": {
    "collapsed": false
   },
   "outputs": [],
   "source": [
    "# from new traveler's rating get only hotel name and rating\n",
    "# stores in 'data' dictionary\n",
    "import csv\n",
    "import csv\n",
    "with open('new_traveler_ratings.csv', 'r') as f:\n",
    "    reader = csv.reader(f)\n",
    "    data = {}\n",
    "    for row in reader:\n",
    "        data[row[2]] = row[10]  \n"
   ]
  },
  {
   "cell_type": "code",
   "execution_count": 32,
   "metadata": {
    "collapsed": false
   },
   "outputs": [],
   "source": [
    "\"\"\"\n",
    "    now we have the average rating \n",
    "    and we have all reviews about all hotels\n",
    "    \n",
    "    next: get all average features for each hotels, and append the average rating\n",
    "    which is the target at the end of each entry, make it a perfect training \n",
    "    data set.\n",
    "\"\"\"\n",
    "\n",
    "\n",
    "# remove prefix 'Review of' from the hotel_name column\n",
    "attribute_df=pd.read_csv('attribute_ratings.csv') \n",
    "newnamelist=[' '.join(x.split(' ')[2:]) for x in attribute_df['hotel_name'].tolist()]\n",
    "attribute_df['hotel_name'] = pd.Series(newnamelist).values\n",
    "\n",
    "\n",
    "unique_hotel = set(attribute_df['hotel_name'].tolist())\n",
    "# average ratings for 48 hotels -- will be used as y\n",
    "hotel_rating_df= hotel_rating_df[hotel_rating_df['hotel_name'].isin(unique_hotel)]\n",
    "\n",
    "# average ratings for 48 hotels -- will be used as y.\n",
    "average_rating = [ (h,data[h]) for h in unique_hotel]\n"
   ]
  },
  {
   "cell_type": "code",
   "execution_count": 33,
   "metadata": {
    "collapsed": true
   },
   "outputs": [],
   "source": [
    "avgAtr_hotel_rating =[]"
   ]
  },
  {
   "cell_type": "code",
   "execution_count": 34,
   "metadata": {
    "collapsed": false
   },
   "outputs": [],
   "source": [
    "# split the total review by hotels\n",
    "def get_all_avgAtr_review(total_review):\n",
    "    hotel_name = total_review['hotel_name'][0]\n",
    "    start_index = 0\n",
    "    end_index = 0\n",
    "    r=0\n",
    "    \n",
    "    while r <total_review.shape[0]:\n",
    "        row = total_review[r:r+1]\n",
    "        if row['hotel_name'].values[0] == hotel_name:\n",
    "            end_index+=1\n",
    "            if(end_index==total_review.shape[0]):\n",
    "                result=get_hotel_avgAtr(attribute_df[start_index:end_index],start_index)\n",
    "                avgAtr_hotel_rating.append(result)\n",
    "                #print(start_index,end_index)\n",
    "            r+=1\n",
    "        else:\n",
    "            #print(start_index,end_index)\n",
    "            result = get_hotel_avgAtr(attribute_df[start_index:end_index],start_index)\n",
    "            avgAtr_hotel_rating.append(result)\n",
    "            start_index = end_index\n",
    "            hotel_name = total_review['hotel_name'][start_index]\n",
    "    print('done')    "
   ]
  },
  {
   "cell_type": "code",
   "execution_count": 35,
   "metadata": {
    "collapsed": true
   },
   "outputs": [],
   "source": [
    "# for each hotel, calculate the average attribute ratings\n",
    "# and return a single row with hotel name and average attribute ratings\n",
    "def get_hotel_avgAtr(hotel_review, line_num):\n",
    "    hotel_avgAtr = [hotel_review['hotel_name'][line_num]]\n",
    "    for atr in hotel_review.columns.values[3:]:\n",
    "        sumof=0\n",
    "        counter=0\n",
    "        for x in hotel_review[atr].values:\n",
    "            if ~np.isnan(x):\n",
    "                sumof += x\n",
    "                counter+=1\n",
    "        if(counter==0):\n",
    "            hotel_avgAtr.append(0.0)\n",
    "        else: hotel_avgAtr.append(sumof/counter)\n",
    "    return hotel_avgAtr\n",
    "    \n",
    "    "
   ]
  },
  {
   "cell_type": "code",
   "execution_count": 36,
   "metadata": {
    "collapsed": false,
    "scrolled": true
   },
   "outputs": [
    {
     "name": "stdout",
     "output_type": "stream",
     "text": [
      "done\n"
     ]
    }
   ],
   "source": [
    "get_all_avgAtr_review(attribute_df)"
   ]
  },
  {
   "cell_type": "code",
   "execution_count": 37,
   "metadata": {
    "collapsed": false
   },
   "outputs": [],
   "source": [
    "# we have all average ratings for each hotel, form each entry for training \n",
    "training_set = pd.DataFrame(avgAtr_hotel_rating, columns=['hotel_name','Value','Rooms','Location','Cleanliness','Sleep Quality','Service','star_rating']) "
   ]
  },
  {
   "cell_type": "code",
   "execution_count": 38,
   "metadata": {
    "collapsed": false
   },
   "outputs": [],
   "source": [
    "training_set.to_csv('hotel_avg_attrib_ratings.csv')"
   ]
  },
  {
   "cell_type": "code",
   "execution_count": 39,
   "metadata": {
    "collapsed": false
   },
   "outputs": [],
   "source": [
    "# get name from the training set, and get data the avg rating from 'data' dictionary\n",
    "train_y = [ [x,float(data[x])] for x in training_set['hotel_name'].tolist()]"
   ]
  },
  {
   "cell_type": "code",
   "execution_count": 40,
   "metadata": {
    "collapsed": false
   },
   "outputs": [],
   "source": [
    "# form target_y set\n",
    "train_y_df = pd.DataFrame(train_y,columns=['hotel_name','avg_rating'])"
   ]
  },
  {
   "cell_type": "code",
   "execution_count": 41,
   "metadata": {
    "collapsed": false
   },
   "outputs": [],
   "source": [
    "from sklearn import linear_model\n",
    "X_train = training_set[['Value','Rooms','Location','Cleanliness','Sleep Quality', 'Service','star_rating']][0:56]\n",
    "X_test = training_set[['Value','Rooms','Location','Cleanliness','Sleep Quality', 'Service','star_rating']][56:]\n",
    "y_train = train_y_df[['avg_rating']][0:56]\n",
    "y_test = train_y_df[['avg_rating']][56:]"
   ]
  },
  {
   "cell_type": "code",
   "execution_count": 42,
   "metadata": {
    "collapsed": false,
    "scrolled": true
   },
   "outputs": [
    {
     "name": "stdout",
     "output_type": "stream",
     "text": [
      "Coefficients: \n",
      " [[ 0.10937083  0.25820411  0.12114313 -0.00245773  0.15811094  0.25501095\n",
      "   0.21788678]]\n",
      "Mean squared error: 0.00\n",
      "Variance score: 0.98\n"
     ]
    }
   ],
   "source": [
    "regr = linear_model.LinearRegression()\n",
    "regr.fit(X_train, y_train)\n",
    "# The coefficients\n",
    "print('Coefficients: \\n', regr.coef_)\n",
    "\n",
    "# The mean squared error\n",
    "print(\"Mean squared error: %.2f\" % np.mean((regr.predict(X_test) - y_test) ** 2))\n",
    "\n",
    "# Explained variance score: 1 is perfect prediction\n",
    "print('Variance score: %.2f' % regr.score(X_test, y_test))\n"
   ]
  },
  {
   "cell_type": "markdown",
   "metadata": {},
   "source": [
    "-------"
   ]
  },
  {
   "cell_type": "markdown",
   "metadata": {},
   "source": [
    "** Task 3 (30 pts) **\n",
    "\n",
    "Finally, we will use logistic regression to decide if a hotel is _excellent_ or not. We classify a hotel as _excellent_ if more than **60%** of its ratings are 5 stars. This is a binary attribute on which we can fit a logistic regression model. As before, use the model to analyze the data."
   ]
  },
  {
   "cell_type": "code",
   "execution_count": 43,
   "metadata": {
    "collapsed": false
   },
   "outputs": [],
   "source": [
    "# mark all hotels with 1:excellent, 0:not excellent\n",
    "df['excellent_ratio'] = df['Excellent']/(df['Excellent']+df['Very good']+df['Average']+df['Poor']+df['Terrible']) "
   ]
  },
  {
   "cell_type": "code",
   "execution_count": 44,
   "metadata": {
    "collapsed": false
   },
   "outputs": [],
   "source": [
    "df['is_excellent'] = df['excellent_ratio'] // 0.6"
   ]
  },
  {
   "cell_type": "code",
   "execution_count": 45,
   "metadata": {
    "collapsed": true
   },
   "outputs": [],
   "source": [
    "X_train = training_set[['Value','Rooms','Location','Cleanliness','Sleep Quality', 'Service','star_rating']][0:56]\n",
    "X_test = training_set[['Value','Rooms','Location','Cleanliness','Sleep Quality', 'Service','star_rating']][56:]\n"
   ]
  },
  {
   "cell_type": "code",
   "execution_count": 46,
   "metadata": {
    "collapsed": false
   },
   "outputs": [],
   "source": [
    "hotel_ex_df = df[['hotel_name','is_excellent']]"
   ]
  },
  {
   "cell_type": "code",
   "execution_count": 47,
   "metadata": {
    "collapsed": false
   },
   "outputs": [],
   "source": [
    "# make the dictionary about y\n",
    "ex_data={}\n",
    "for x in hotel_ex_df.values.tolist():\n",
    "    ex_data[x[0]] = x[1]\n"
   ]
  },
  {
   "cell_type": "code",
   "execution_count": 48,
   "metadata": {
    "collapsed": false
   },
   "outputs": [],
   "source": [
    "# get the y target\n",
    "y_target = [ ex_data[h] for h in training_set['hotel_name'].values.tolist()]"
   ]
  },
  {
   "cell_type": "code",
   "execution_count": 49,
   "metadata": {
    "collapsed": false
   },
   "outputs": [],
   "source": [
    "# make the training & test y\n",
    "y_train = y_target[0:56]\n",
    "y_test = y_target[56:]"
   ]
  },
  {
   "cell_type": "code",
   "execution_count": 50,
   "metadata": {
    "collapsed": false
   },
   "outputs": [
    {
     "name": "stdout",
     "output_type": "stream",
     "text": [
      "Coefficients: \n",
      " [[ -6.11756393  20.31178923   1.68199926  -3.2453248   17.0542242\n",
      "   10.34300276  -4.05162057]]\n",
      "Mean squared error: 0.08\n",
      "Variance score: 0.92\n"
     ]
    }
   ],
   "source": [
    "import matplotlib.pyplot as plt\n",
    "n=0.02\n",
    "logreg = linear_model.LogisticRegression(C=10000)\n",
    "logreg.fit(X_train,y_train)\n",
    "print('Coefficients: \\n', logreg.coef_)\n",
    "print(\"Mean squared error: %.2f\" % np.mean((logreg.predict(X_test) - y_test) ** 2))\n",
    "print('Variance score: %.2f' % logreg.score(X_test,y_test))"
   ]
  },
  {
   "cell_type": "code",
   "execution_count": 1,
   "metadata": {
    "collapsed": true
   },
   "outputs": [],
   "source": [
    "import json"
   ]
  },
  {
   "cell_type": "code",
   "execution_count": 3,
   "metadata": {
    "collapsed": true
   },
   "outputs": [],
   "source": [
    "data = []"
   ]
  },
  {
   "cell_type": "code",
   "execution_count": 5,
   "metadata": {
    "collapsed": false
   },
   "outputs": [],
   "source": [
    "import pandas as pd\n",
    "    "
   ]
  },
  {
   "cell_type": "code",
   "execution_count": 6,
   "metadata": {
    "collapsed": true
   },
   "outputs": [],
   "source": [
    "pf = pd.read_csv('attribute_ratings.csv')"
   ]
  },
  {
   "cell_type": "code",
   "execution_count": 9,
   "metadata": {
    "collapsed": false
   },
   "outputs": [],
   "source": [
    "data = pf['review_id'].values"
   ]
  },
  {
   "cell_type": "code",
   "execution_count": 12,
   "metadata": {
    "collapsed": false
   },
   "outputs": [
    {
     "data": {
      "text/plain": [
       "109461"
      ]
     },
     "execution_count": 12,
     "metadata": {},
     "output_type": "execute_result"
    }
   ],
   "source": [
    "len(set(data))"
   ]
  },
  {
   "cell_type": "markdown",
   "metadata": {},
   "source": [
    "-------"
   ]
  }
 ],
 "metadata": {
  "anaconda-cloud": {},
  "kernelspec": {
   "display_name": "Python [conda root]",
   "language": "python",
   "name": "conda-root-py"
  },
  "language_info": {
   "codemirror_mode": {
    "name": "ipython",
    "version": 3
   },
   "file_extension": ".py",
   "mimetype": "text/x-python",
   "name": "python",
   "nbconvert_exporter": "python",
   "pygments_lexer": "ipython3",
   "version": "3.5.2"
  }
 },
 "nbformat": 4,
 "nbformat_minor": 0
}

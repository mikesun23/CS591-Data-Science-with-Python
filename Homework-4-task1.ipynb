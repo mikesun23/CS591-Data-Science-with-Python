{
 "cells": [
  {
   "cell_type": "markdown",
   "metadata": {},
   "source": [
    "(In order to load the stylesheet of this notebook, execute the last code cell in this notebook)"
   ]
  },
  {
   "cell_type": "markdown",
   "metadata": {},
   "source": [
    "# Recommender System for Amazon Electronics"
   ]
  },
  {
   "cell_type": "markdown",
   "metadata": {},
   "source": [
    "In this assignment, we will be working with the [Amazon dataset](http://cs-people.bu.edu/kzhao/teaching/amazon_reviews_Electronics.tar.gz). You will build a recommender system to make predictions related to reviews of Electronics products on Amazon.\n",
    "\n",
    "Your grades will be determined by your performance on the predictive tasks as well as a brief written report about the approaches you took.\n",
    "\n",
    "This assignment should be completed **individually**."
   ]
  },
  {
   "cell_type": "markdown",
   "metadata": {},
   "source": [
    "## Files"
   ]
  },
  {
   "cell_type": "markdown",
   "metadata": {},
   "source": [
    "**train.json** 1,000,000 reviews to be used for training. It is not necessary to use all reviews for training if doing so proves too computationally intensive. The fields in this file are:\n",
    "\n",
    "* **reviewerID** The ID of the reviewer. This is a hashed user identifier from Amazon.\n",
    "\n",
    "* **asin** The ID of the item. This is a hashed product identifier from Amazon.\n",
    "\n",
    "* **overall** The rating of reviewer gave the item.\n",
    "\n",
    "* **helpful** The helpfulness votes for the review. This has 2 subfields, 'nHelpful' and 'outOf'. The latter is the total number of votes this review received. The former is the number of those that considered the review to be helpful.\n",
    "\n",
    "* **reviewText** The text of the review.\n",
    "\n",
    "* **summary** The summary of the review.\n",
    "\n",
    "* **unixReviewTime** The time of the review in seconds since 1970."
   ]
  },
  {
   "cell_type": "markdown",
   "metadata": {},
   "source": [
    "**meta.json** Contains metadata of the items:\n",
    "\n",
    "* **asin** The ID of the item.\n",
    "\n",
    "* **categories** The category labels of the item being reviewed.\n",
    "\n",
    "* **price** The price of the item.\n",
    "\n",
    "* **brand** The brand of the item."
   ]
  },
  {
   "cell_type": "markdown",
   "metadata": {},
   "source": [
    "**pairs_Rating.txt** The pairs (reviewerID and asin) on which you are to predict ratings.\n",
    "\n",
    "**pairs_Purchase.txt** The pairs on which you are to predict whether a user purchased an item or not.\n",
    "\n",
    "**pairs_Helpful.txt** The pairs on which you are to predict helpfulness votes. A third column in this file is the total number of votes from which you should predict how many were helpful."
   ]
  },
  {
   "cell_type": "markdown",
   "metadata": {},
   "source": [
    "**helpful.json** The review data associated with the helpfulness prediction test set. The 'nHelpful' field has been removed from this data since that is the value you need to predict above. This data will only be of use for the helpfulness prediction task."
   ]
  },
  {
   "cell_type": "markdown",
   "metadata": {},
   "source": [
    "**baseline.py** A simple baseline for each task."
   ]
  },
  {
   "cell_type": "markdown",
   "metadata": {
    "collapsed": true
   },
   "source": [
    "## Tasks"
   ]
  },
  {
   "cell_type": "markdown",
   "metadata": {},
   "source": [
    "**Rating prediction** Predict people's star ratings as accurately as possible for those (reviewerID, asin) pairs in 'pairs_Rating.txt'. Accuracy will be measured in terms of the [root mean-squared error (RMSE)](http://www.kaggle.com/wiki/RootMeanSquaredError).\n",
    "\n",
    "**Purchase prediction** Predict given a (reviewerID, asin) pair from 'pairs_Purchase.txt' whether the user purchased the item (really, whether it was one of the items they reviewed). Accuracy will be measured in terms of the [categorization accuracy](http://www.kaggle.com/wiki/HammingLoss) (1 minus the Hamming loss).\n",
    "\n",
    "**Helpfulness prediction** Predic whether a user's review of an item will be considered helpful. The file 'pairs_Helpful.txt' contains (reviewerID, asin) pairs with a third column containing the number of votes the user's review of the item received. You must predict how many of them were helpful. Accuracy will be measured in terms of the total [absolute error](http://www.kaggle.com/wiki/AbsoluteError), i.e. you are penalized one according to the difference |nHelpful - prediction|, where 'nHelpful' is the number of helpful votes the review actually received, and 'prediction' is your prediction of this quantity.\n",
    "\n",
    "We set up competitions on Kaggle to keep track of your results compared to those of other members of the class. The leaderboard will show your results on half of the test data, but your ultimate score will depend on your predictions across the whole dataset.\n",
    "* Kaggle competition: [rating prediction](https://inclass.kaggle.com/c/cs591-hw3-rating-prediction3) click here to [join](https://kaggle.com/join/datascience16rating)\n",
    "* Kaggle competition: [purchase prediction](https://inclass.kaggle.com/c/cs591-hw3-purchase-prediction) click here to [join](https://kaggle.com/join/datascience16purchase)\n",
    "* Kaggle competition: [helpfulness prediction](https://inclass.kaggle.com/c/cs591-hw3-helpful-prediction) click here to [join](https://kaggle.com/join/datascience16helpful)"
   ]
  },
  {
   "cell_type": "markdown",
   "metadata": {},
   "source": [
    "## Grading and Evaluation"
   ]
  },
  {
   "cell_type": "markdown",
   "metadata": {},
   "source": [
    "You will be graded on the following aspects.\n",
    "\n",
    "* Your written report. This should describe the approaches you took to each of the 3 tasks. To obtain good performance, you should not need to invent new approaches (though you are more than welcome to) but rather you will be graded based on your decision to apply reasonable approaches to each of the given tasks. (**10pts** for each task)\n",
    "\n",
    "* Your ability to obtain a solution which outperforms the baselines on the unseen portion of the test data. Obtaining full marks requires a solution which is substantially better (at least several percent) than baseline performance. (**10pts** for each task)\n",
    "\n",
    "* Your ranking for each of the three tasks compared to other students in the class. (**5pts** for each task)\n",
    "\n",
    "* Obtain a solution which outperforms the baselines on the seen portion of the test data (the leaderboard). \n",
    "(**5pts** for each task)"
   ]
  },
  {
   "cell_type": "markdown",
   "metadata": {},
   "source": [
    "## Baselines"
   ]
  },
  {
   "cell_type": "markdown",
   "metadata": {},
   "source": [
    "Simple baselines have been provided for each of the 3 tasks. These are included in 'baselines.py' among the files above. These 3 baselines operate as follows:\n",
    "\n",
    "**Rating prediction** Returns the global average rating, or the user's average if you have seen them before in the training data.\n",
    "\n",
    "**Purchase prediction** Finds the most popular products that account for 50% of purchases in the training data. Return '1' whenever such a product is seen at test time, '0' otherwise.\n",
    "\n",
    "** Helpfulness prediction** Multiplies the number of votes by the global average helpfulness rate, or the user's rate if we saw this user in the training data.\n",
    "\n",
    "Running 'baseline.py' produces 3 files containing predicted outputs. Your submission files should have the same format."
   ]
  },
  {
   "cell_type": "markdown",
   "metadata": {},
   "source": [
    "## Dataset Citation"
   ]
  },
  {
   "cell_type": "markdown",
   "metadata": {},
   "source": [
    "**Image-based recommendations on styles and substitutes** J. McAuley, C. Targett, J. Shi, A. van den Hengel *SIGIR*, 2015\n",
    "\n",
    "**Inferring networks of substitutable and complementary products** J. McAuley, R. Pandey, J. Leskovec *Knowledge Discovery and Data Mining*, 2015"
   ]
  },
  {
   "cell_type": "markdown",
   "metadata": {},
   "source": [
    "### SOLUTION TASK 1:\n",
    "\n",
    "For rating prediction:\n",
    "\n",
    "Rating = Item Average + User Bias (while refering Simon Flunk's Netflix algorithm)\n",
    " \n",
    "     Instead of taking Item average rating directly, I scaled it up using global average as well. Because if some item has a single rating, it doesn't necessarily mean it'll be the average rating. Similarly, I scaled user bias as well to get ratings with following approach:\n",
    "     \n",
    "                       Rating = scaled item average + scaled user bias\n",
    "                        Kaggle score: 1.36615 (after trying various scaling parameters)         \n"
   ]
  },
  {
   "cell_type": "markdown",
   "metadata": {},
   "source": [
    "### 1. Averaging:"
   ]
  },
  {
   "cell_type": "code",
   "execution_count": 33,
   "metadata": {
    "collapsed": true
   },
   "outputs": [],
   "source": [
    "# Libraries\n",
    "import numpy as np\n",
    "import pandas as pd\n",
    "\n",
    "import gzip\n",
    "from collections import defaultdict\n",
    "\n",
    "import time\n",
    "import sys\n",
    "from scipy.stats import logistic\n"
   ]
  },
  {
   "cell_type": "code",
   "execution_count": 34,
   "metadata": {
    "collapsed": false
   },
   "outputs": [
    {
     "name": "stdout",
     "output_type": "stream",
     "text": [
      "Done 509678 92.3317990303\n"
     ]
    }
   ],
   "source": [
    "#parse data\n",
    "\n",
    "def readJson(f):\n",
    "  for l in open(f):\n",
    "    yield eval(l)\n",
    "\n",
    "now = time.time()\n",
    "usersitem = defaultdict(dict) # (user_id,item_id) rating\n",
    "mapui = defaultdict(list) # user_id, item_id\n",
    "mapiu = defaultdict(list) # item_id, user_id\n",
    "\n",
    "rate = {}\n",
    "\n",
    "for l in readJson(\"train.json\"):\n",
    "    mapui[l['reviewerID']].append(l['asin'])\n",
    "    mapiu[l['asin']].append(l['reviewerID'])\n",
    "              \n",
    "    usersitem[l['reviewerID']][l['asin']] = l['overall']\n",
    "\n",
    "print \"Done\", len(usersitem), time.time()-now\n"
   ]
  },
  {
   "cell_type": "code",
   "execution_count": 35,
   "metadata": {
    "collapsed": false
   },
   "outputs": [
    {
     "name": "stdout",
     "output_type": "stream",
     "text": [
      "Done 112.736366987 498196 42\n"
     ]
    }
   ],
   "source": [
    "#parse category fields to be used in 3) regression models\n",
    "\n",
    "now = time.time()\n",
    "itemsattr = defaultdict(list) # item_id, category\n",
    "\n",
    "attrset = set()\n",
    "\n",
    "for l in readJson(\"meta.json\"):\n",
    "    categ = l['categories'].translate(None,'\\'').split(\"[[\")[1].split(\"]]\")[0].split(\",\")[1:2]\n",
    "    itemsattr[l['asin']] = categ\n",
    "    attrset |= set(categ)\n",
    "    \n",
    "print \"Done\", time.time()-now, len(itemsattr), len(attrset)"
   ]
  },
  {
   "cell_type": "code",
   "execution_count": 36,
   "metadata": {
    "collapsed": false,
    "scrolled": true
   },
   "outputs": [
    {
     "name": "stdout",
     "output_type": "stream",
     "text": [
      "[' Car & Vehicle Electronics']\n",
      "2.0\n"
     ]
    }
   ],
   "source": [
    "#check entries\n",
    "print itemsattr['03975a07fc9d5777a251e73cd7421aff026c7c5d3d58b7d66fae6d0b9d48ff7a']\n",
    "print usersitem['bc19970fff3383b2fe947cf9a3a5d7b13b6e57ef2cd53abc52bb2dfedf5fb1cd']['19e5cc4a706554d37670eabca2c19f1fc4f259361d78f0b58dafb91f3a863fc1']"
   ]
  },
  {
   "cell_type": "markdown",
   "metadata": {},
   "source": [
    "    Now we can start populating different types of averages and see what could work best. I calculated user's average ratings, item's average ratings, user's bias values and item's bias values."
   ]
  },
  {
   "cell_type": "code",
   "execution_count": 37,
   "metadata": {
    "collapsed": false
   },
   "outputs": [
    {
     "name": "stdout",
     "output_type": "stream",
     "text": [
      "509678 171185 4.8681499958\n"
     ]
    }
   ],
   "source": [
    "#populate average ratings to get global averages and per-element averages\n",
    "\n",
    "userfeature = defaultdict(dict)\n",
    "itemfeature = defaultdict(dict)\n",
    "\n",
    "avgratedict = defaultdict(list)\n",
    "useroffdict = defaultdict()\n",
    "\n",
    "start = time.time()\n",
    "\n",
    "def populateAvgDict():\n",
    "    for user in usersitem.keys():\n",
    "        for item in usersitem[user].keys():\n",
    "            #print user, usersitem[user], item, itemsattr[item]\n",
    "            avgratedict[item].append(usersitem[user][item])\n",
    "            #for feature in list(attrset):\n",
    "            for feature in itemsattr[item]:\n",
    "                #if feature in itemsattr[item]:\n",
    "                userfeature[user][feature] = usersitem[user][item]\n",
    "                itemfeature[item][feature] = usersitem[user][item]\n",
    "                \"\"\"\n",
    "                else:\n",
    "                    userfeature[user][feature] = 0.0\n",
    "                    itemfeature[item][feature] = 0.0\n",
    "                \"\"\"\n",
    "\n",
    "                \"\"\"\n",
    "                if len(userfeature) == 5:\n",
    "                    print userfeature, itemfeature\n",
    "                    sys.exit(0)\n",
    "                \"\"\"    \n",
    "    return avgratedict\n",
    "        \n",
    "avgratedict = populateAvgDict()  \n",
    "print len(userfeature), len(itemfeature), time.time()-start"
   ]
  },
  {
   "cell_type": "code",
   "execution_count": 38,
   "metadata": {
    "collapsed": false,
    "scrolled": true
   },
   "outputs": [
    {
     "name": "stdout",
     "output_type": "stream",
     "text": [
      "{' Computers & Accessories': 2.0, ' Television & Video': 4.0, ' Accessories & Supplies': 2.0}\n",
      "{' Car & Vehicle Electronics': 3.0}\n"
     ]
    }
   ],
   "source": [
    "#check entries\n",
    "\n",
    "print userfeature['bc19970fff3383b2fe947cf9a3a5d7b13b6e57ef2cd53abc52bb2dfedf5fb1cd']\n",
    "print itemfeature['03975a07fc9d5777a251e73cd7421aff026c7c5d3d58b7d66fae6d0b9d48ff7a']\n"
   ]
  },
  {
   "cell_type": "code",
   "execution_count": 39,
   "metadata": {
    "collapsed": false
   },
   "outputs": [
    {
     "name": "stdout",
     "output_type": "stream",
     "text": [
      "3837538.0 1000000 3.837538\n"
     ]
    }
   ],
   "source": [
    "#get global average of item ratings in \"globalavg\"\n",
    "\n",
    "globalsum = 0\n",
    "globalsize = 0\n",
    "\n",
    "for k,v in avgratedict.iteritems():\n",
    "    globalsum += sum(v)\n",
    "    globalsize += len(v)\n",
    "    \n",
    "globalavg = globalsum/globalsize\n",
    "\n",
    "print globalsum, globalsize, globalavg\n"
   ]
  },
  {
   "cell_type": "markdown",
   "metadata": {},
   "source": [
    "    Most of the algorithms I've seen take scaling factors (lambdas in BellKor) based on V_a and V_b, where V_a is global variance of item's ratings and V_b is variance between per item's average rating and it's actual rating"
   ]
  },
  {
   "cell_type": "code",
   "execution_count": 40,
   "metadata": {
    "collapsed": false
   },
   "outputs": [
    {
     "name": "stdout",
     "output_type": "stream",
     "text": [
      "2111356.09854 1538264.88976 4.25602267766\n"
     ]
    }
   ],
   "source": [
    "#calculate variance Va and Vb - this affects which parameter to choose for scaling\n",
    "\n",
    "rateVa = 0.0\n",
    "rateVb = 0.0\n",
    "\n",
    "for k,v in avgratedict.iteritems():\n",
    "    temprateVb = 0.0\n",
    "    if not len(v):\n",
    "        print k\n",
    "        break\n",
    "    curavg = 1.0*sum(v)/len(v)\n",
    "    for r in v:\n",
    "        rateVa += (globalavg-r)**2\n",
    "        rateVb += (curavg-r)**2\n",
    "\n",
    "print rateVa, rateVb, (rateVb/len(avgratedict))/(rateVa/globalsize)"
   ]
  },
  {
   "cell_type": "code",
   "execution_count": 41,
   "metadata": {
    "collapsed": false
   },
   "outputs": [
    {
     "name": "stdout",
     "output_type": "stream",
     "text": [
      "Computed users' offset 509678 -7.67386154621e-11 1000000\n"
     ]
    }
   ],
   "source": [
    "#get user's bias values\n",
    "\n",
    "useroffset = defaultdict(list)\n",
    "gloffsetsum = 0.0\n",
    "gloffsetlen = 0\n",
    "for user,items in usersitem.iteritems():\n",
    "    for item, rating in items.iteritems():        \n",
    "        off = usersitem[user][item] -  sum(avgratedict[item])/len(avgratedict[item])\n",
    "        useroffset[user].append(off)\n",
    "        gloffsetsum += off\n",
    "        gloffsetlen+=1\n",
    "        \n",
    "gloffsetavg = gloffsetsum/gloffsetlen\n",
    "print \"Computed users' offset\", len(useroffset), gloffsetsum, gloffsetlen\n",
    "     "
   ]
  },
  {
   "cell_type": "code",
   "execution_count": 42,
   "metadata": {
    "collapsed": false
   },
   "outputs": [
    {
     "name": "stdout",
     "output_type": "stream",
     "text": [
      "Computed items' offset 171185 233142.395601 1000000\n"
     ]
    }
   ],
   "source": [
    "#get item's bias values - NOT chosen for final prediction routine\n",
    "\n",
    "itemoffset = defaultdict(list)\n",
    "itemgloffsetsum = 0.0\n",
    "itemgloffsetlen = 0\n",
    "for items,ratelist in avgratedict.iteritems():\n",
    "    for rating in ratelist:\n",
    "        off = rating - sum(avgratedict[item])/len(avgratedict[item])\n",
    "        itemoffset[items].append(off)\n",
    "        \n",
    "        #off = usersitem[user][item] -  sum(avgratedict[item])/len(avgratedict[item])\n",
    "        #useroffset[user].append(off)\n",
    "        \n",
    "        itemgloffsetsum += off\n",
    "        itemgloffsetlen+=1\n",
    "        \n",
    "itemgloffsetavg = itemgloffsetsum/itemgloffsetlen\n",
    "print \"Computed items' offset\", len(itemoffset), itemgloffsetsum, itemgloffsetlen\n",
    "     "
   ]
  },
  {
   "cell_type": "code",
   "execution_count": 43,
   "metadata": {
    "collapsed": false
   },
   "outputs": [
    {
     "name": "stdout",
     "output_type": "stream",
     "text": [
      "1538264.88976 591856.023241 0.549994943614\n"
     ]
    }
   ],
   "source": [
    "#calculate variance Va and Vb for offset - reference for scaling parameters\n",
    "\n",
    "offVa = 0.0\n",
    "offVb = 0.0\n",
    "\n",
    "for user,items in usersitem.iteritems():\n",
    "    userOff = 0.0\n",
    "    userOffAvg = sum(useroffset[user] )/len(useroffset[user])\n",
    "    \n",
    "    for item, rating in items.iteritems():        \n",
    "        curOff = usersitem[user][item] -  sum(avgratedict[item])/len(avgratedict[item])\n",
    "        offVa += (gloffsetavg - curOff)**2\n",
    "        userOff += (userOffAvg - curOff)**2\n",
    "    offVb += userOff\n",
    "        \n",
    "\n",
    "print offVa, offVb, (offVb/len(useroffset))/(rateVa/gloffsetlen)"
   ]
  },
  {
   "cell_type": "markdown",
   "metadata": {},
   "source": [
    "    Instead of reading test data again and again, store it in memory"
   ]
  },
  {
   "cell_type": "code",
   "execution_count": 44,
   "metadata": {
    "collapsed": true
   },
   "outputs": [],
   "source": [
    "def readJson(f):\n",
    "  for l in open(f):\n",
    "    yield eval(l)\n",
    "\n",
    "def parseData(fname):\n",
    "  for l in urllib.urlopen(fname):\n",
    "    yield eval(l)\n",
    "    \n",
    "allRatings = []\n",
    "userRatings = defaultdict(list)\n",
    "data = []\n",
    "\n",
    "for l in readJson(\"train.json\"):\n",
    "    data.append(l)"
   ]
  },
  {
   "cell_type": "code",
   "execution_count": null,
   "metadata": {
    "collapsed": false
   },
   "outputs": [
    {
     "name": "stdout",
     "output_type": "stream",
     "text": [
      "1233948.17301\n"
     ]
    }
   ],
   "source": [
    "#Train average ratings and user bias values to get better predictions\n",
    "\n",
    "itemavgdict = defaultdict()\n",
    "userbiasdict = defaultdict()\n",
    "itembiasdict = defaultdict()\n",
    "\n",
    "def SVDBaseTrain(userid, itemid, actual, k1=6.5, k2=3.5):\n",
    "    \"\"\"\n",
    "    Take user-item pair and it's actual rating. Compare with the predicted rating and adjust \n",
    "    average rating and bias ratings\n",
    "    \"\"\"\n",
    "    ret = 0.0\n",
    "    try:\n",
    "        rateavg = avgratedict[itemid]\n",
    "    except KeyError:\n",
    "        rateavg = []\n",
    "    try:\n",
    "        offset = useroffset[userid] \n",
    "    except KeyError:\n",
    "        offset = []\n",
    "        \n",
    "    try:\n",
    "        itemoff = itemoffset[itemid]\n",
    "    except KeyError:\n",
    "        itemoff = []\n",
    "\n",
    "    itemavg = 0.0\n",
    "    offsetavg = 0.0\n",
    "    itembiasavg = 0.0\n",
    "    \n",
    "    for i in xrange(5):\n",
    "        \n",
    "        \"\"\"\n",
    "        Scaling logic:\n",
    "        value = (K* value's global avg + global sum)/(K + global length)\n",
    "        This K depends on V_a and V_b of value and I found 6.5 and 3.5 to be sufficiently good\n",
    "        \"\"\"\n",
    "        newitemavg = (globalavg*k1 + sum(rateavg))/(k1 + len(rateavg))\n",
    "        newoffsetavg = (gloffsetavg*k2+sum(offset))/(k2+len(offset))\n",
    "        newitemoff = (itemgloffsetavg*k2+sum(itemoff))/(k2+len(itemoff))\n",
    "        \n",
    "        trainpredict = newitemavg + newoffsetavg\n",
    "        err = actual- trainpredict\n",
    "        #if err < 0.001:\n",
    "            #break\n",
    "        itemavg = newitemavg + 0.001*(err) #+ 0.0001*(err**2)\n",
    "        offsetavg = newoffsetavg + 0.001*(err) #+ 0.0001*(err**2)\n",
    "             \n",
    "        itembiasavg = newitemoff + 0.0002*(err)\n",
    "        \n",
    "    itemavgdict[itemid] = itemavg\n",
    "    userbiasdict[userid] = offsetavg\n",
    "    itembiasdict[itemid] = itembiasavg\n",
    "    \n",
    "    ret =  min(4.6, max(1.6,itemavg+offsetavg))\n",
    "    return ret\n",
    "\n",
    "\n",
    "mse = 0.0\n",
    "for test in data:\n",
    "    actual = test['overall']\n",
    "    predict = SVDBaseTrain(test['reviewerID'], test['asin'], actual)\n",
    "    \n",
    "    mse += (predict-actual)**2\n",
    "    #break\n",
    "print mse\n",
    "\n"
   ]
  },
  {
   "cell_type": "markdown",
   "metadata": {},
   "source": [
    "    Get predictions based on trained data and write to file (0.4 sec for 100,000 pairs - very fast)"
   ]
  },
  {
   "cell_type": "code",
   "execution_count": null,
   "metadata": {
    "collapsed": false
   },
   "outputs": [],
   "source": [
    "import math\n",
    "\n",
    "\n",
    "def SVDBase(userid, itemid, k1=6.5, k2=3.5):\n",
    "    \"\"\"\n",
    "    This is essentially same logic as used in training.    \n",
    "    \"\"\"\n",
    "    ret = 0.0\n",
    "    try:\n",
    "        itemavg = itemavgdict[itemid]\n",
    "    except:\n",
    "    \n",
    "        try:\n",
    "            rateavg = avgratedict[itemid]\n",
    "        except KeyError:\n",
    "            rateavg = []\n",
    "        itemavg = (globalavg*k1 + sum(rateavg))/(k1 + len(rateavg))\n",
    "    try:\n",
    "        offsetavg = userbiasdict[userid]\n",
    "    except:\n",
    "        try:\n",
    "            offset = useroffset[userid] \n",
    "        except KeyError:\n",
    "            offset = []\n",
    "        offsetavg = (gloffsetavg*k2+sum(offset))/(k2+len(offset))\n",
    "            \n",
    "    try:\n",
    "        itembias = itembiasdict[itemid]\n",
    "    except KeyError:\n",
    "        try:\n",
    "            itemoff = itemoffset[itemid]\n",
    "        except KeyError:\n",
    "            itemoff = []\n",
    "        itembias = (itemgloffsetavg*k2+sum(itemoff))/(k2+len(itemoff))*0.5\n",
    "        \n",
    "        \n",
    "          \n",
    "    ret =  min(4.6, max(1.6,itemavg+offsetavg))\n",
    "     \n",
    "    return ret\n",
    "\n",
    "\n",
    "ratefile = open(\"biasTrain_Rating.txt\",\"w\")\n",
    "#intratefile = open(\"INTpreSVD_Rating.txt\",\"w\")\n",
    "ratefile.write(\"reviewerID-asin,prediction\\n\")\n",
    "#intratefile.write(\"reviewerID-asin,prediction\\n\")\n",
    "start = time.time()\n",
    "\n",
    "reqUser = defaultdict(dict)\n",
    "reqItem = defaultdict(dict)\n",
    "reqAttr = set()\n",
    "\n",
    "with open(\"pairs_Rating.txt\") as prate:\n",
    "    for pair in prate:\n",
    "        #print pair\n",
    "        if pair.startswith(\"reviewer\"):\n",
    "            continue\n",
    "        \n",
    "        userid, itemid = pair.split(\"-\")\n",
    "        itemid = itemid[:-1]\n",
    "        basepredict = SVDBase(userid,itemid)                \n",
    "                \n",
    "        ratefile.write(\"%s-%s,%f\\n\" % (userid, itemid, basepredict))\n",
    "        #intratefile.write(\"%s-%s,%d\\n\" % (userid, itemid, int(round(basepredict))))\n",
    "        #sys.exit(0)\n",
    "ratefile.close()\n",
    "#intratefile.close()\n",
    "        \n",
    "print \"Done\", time.time()-start"
   ]
  },
  {
   "cell_type": "markdown",
   "metadata": {},
   "source": [
    "    Following cell is just a backup of my previous attempt"
   ]
  },
  {
   "cell_type": "code",
   "execution_count": null,
   "metadata": {
    "collapsed": false
   },
   "outputs": [],
   "source": [
    "#backup\n",
    "\n",
    "import math\n",
    "#head start before SVD\n",
    "\n",
    "\n",
    "def SVDBase(userid, itemid, k1=4, k2=4):\n",
    "    ret = 0.0\n",
    "    try:\n",
    "        rateavg = avgratedict[itemid]\n",
    "    except KeyError:\n",
    "        rateavg = []\n",
    "    try:\n",
    "        offset = useroffset[userid] \n",
    "    except KeyError:\n",
    "        offset = []\n",
    "        \n",
    "    #if not len(rateavg) or not len(offset):\n",
    "        #print userid, itemid\n",
    "    #if len(rateavg):\n",
    "    itemavg = (globalavg*k1 + sum(rateavg))/(k1 + len(rateavg))\n",
    "    #else:\n",
    "        #itemavg = globalavg\n",
    "    #if len(offset):\n",
    "    offsetavg = (gloffsetavg*k2+sum(offset))/(k2+len(offset))\n",
    "    #else:\n",
    "        #offsetavg = 0.0\n",
    "\n",
    "    ret =  min(5.0, max(0.5,itemavg+offsetavg))\n",
    "\n",
    "    #except KeyError:\n",
    "        #ret = min(5.0, max(0.5, globalavg))\n",
    "        \n",
    "    return ret\n",
    "\n",
    "\n",
    "ratefile = open(\"preSVDpred_Rating.txt\",\"w\")\n",
    "#intratefile = open(\"INTpreSVD_Rating.txt\",\"w\")\n",
    "ratefile.write(\"reviewerID-asin,prediction\\n\")\n",
    "#intratefile.write(\"reviewerID-asin,prediction\\n\")\n",
    "start = time.time()\n",
    "\n",
    "reqUser = defaultdict(dict)\n",
    "reqItem = defaultdict(dict)\n",
    "reqAttr = set()\n",
    "\n",
    "with open(\"pairs_Rating.txt\") as prate:\n",
    "    for pair in prate:\n",
    "        #print pair\n",
    "        if pair.startswith(\"reviewer\"):\n",
    "            continue\n",
    "        \n",
    "        userid, itemid = pair.split(\"-\")\n",
    "        itemid = itemid[:-1]\n",
    "        basepredict = SVDBase(userid,itemid)                \n",
    "        \n",
    "        reqUser[userid][itemid] = basepredict\n",
    "        reqItem[itemid][userid] = basepredict\n",
    "        reqAttr |= set(itemsattr[itemid])\n",
    "        usersitem[userid][itemid] = basepredict\n",
    "        ratefile.write(\"%s-%s,%f\\n\" % (userid, itemid, basepredict))\n",
    "        #intratefile.write(\"%s-%s,%d\\n\" % (userid, itemid, int(round(basepredict))))\n",
    "        #sys.exit(0)\n",
    "ratefile.close()\n",
    "#intratefile.close()\n",
    "        \n",
    "print \"Done\", time.time()-start, len(reqUser), len(reqItem), len(reqAttr)"
   ]
  },
  {
   "cell_type": "markdown",
   "metadata": {},
   "source": [
    "------------"
   ]
  },
  {
   "cell_type": "markdown",
   "metadata": {},
   "source": [
    "-----------------"
   ]
  }
 ],
 "metadata": {
  "anaconda-cloud": {},
  "kernelspec": {
   "display_name": "Python 2",
   "language": "python",
   "name": "python2"
  },
  "language_info": {
   "codemirror_mode": {
    "name": "ipython",
    "version": 2
   },
   "file_extension": ".py",
   "mimetype": "text/x-python",
   "name": "python",
   "nbconvert_exporter": "python",
   "pygments_lexer": "ipython2",
   "version": "2.7.12"
  }
 },
 "nbformat": 4,
 "nbformat_minor": 0
}
